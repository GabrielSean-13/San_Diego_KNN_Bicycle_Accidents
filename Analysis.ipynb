{
 "cells": [
  {
   "cell_type": "code",
   "id": "initial_id",
   "metadata": {
    "collapsed": true,
    "ExecuteTime": {
     "end_time": "2025-07-09T03:29:36.909328Z",
     "start_time": "2025-07-09T03:29:32.391502Z"
    }
   },
   "source": [
    "#Load needed Libraries\n",
    "#For converting address to geographic coordinates\n",
    "from geopy.geocoders import Nominatim\n",
    "#Loading bar\n",
    "from tqdm import tqdm\n",
    "#Machine Learning\n",
    "from sklearn.model_selection import train_test_split\n",
    "from sklearn.preprocessing import MinMaxScaler\n",
    "from sklearn.model_selection import GridSearchCV\n",
    "from sklearn.neighbors import KNeighborsClassifier\n",
    "from sklearn.metrics import classification_report, confusion_matrix\n",
    "#TO deal with imbalance dataset\n",
    "from imblearn.over_sampling import SMOTE\n",
    "#Libraries\n",
    "import pandas as pd\n",
    "import re\n",
    "import time\n",
    "import matplotlib.pyplot as plt\n",
    "import seaborn as sns"
   ],
   "outputs": [],
   "execution_count": 1
  },
  {
   "metadata": {
    "ExecuteTime": {
     "end_time": "2025-07-09T03:29:38.721312Z",
     "start_time": "2025-07-09T03:29:38.679986Z"
    }
   },
   "cell_type": "code",
   "source": [
    "#Check to see if we loaded our data properly \n",
    "#This if from my previous project called Bike_accidents_San_Diego\n",
    "bike_accidents = pd.read_csv(r\"C:\\Users\\whift\\PycharmProjects\\Traffice_Collisions\\cleaned_bike_accidents.csv\")\n",
    "bike_accidents.head()"
   ],
   "id": "8b133fb07449f204",
   "outputs": [
    {
     "data": {
      "text/plain": [
       "   report_id        date person_role person_injury_lvl person_veh_type  \\\n",
       "0   20200140  2020-01-06   BICYCLIST            SEVERE             NaN   \n",
       "1   20200152  2020-01-07   BICYCLIST              PAIN             NaN   \n",
       "2   20200153  2020-01-07   BICYCLIST              PAIN             NaN   \n",
       "3   20200237  2020-01-10   BICYCLIST           VISABLE             NaN   \n",
       "4   20200338  2020-01-13   BICYCLIST              PAIN             NaN   \n",
       "\n",
       "  veh_type        veh_make  veh_model  police_beat  address_no_primary  ...  \\\n",
       "0  BICYCLE        GIANNINI        NaN          531              1900.0  ...   \n",
       "1  BICYCLE             NaN        NaN          521              1400.0  ...   \n",
       "2  BICYCLE             NaN        NaN          243                 NaN  ...   \n",
       "3  BICYCLE  FUJI ROBBT JR.        NaN          523               700.0  ...   \n",
       "4  BICYCLE        GIANNINI        NaN          614              4700.0  ...   \n",
       "\n",
       "  address_pd_intersecting address_name_intersecting address_sfx_intersecting  \\\n",
       "0                                                                              \n",
       "1                                                                              \n",
       "2                                           PADGETT                   STREET   \n",
       "3                                                                              \n",
       "4                                                                              \n",
       "\n",
       "  violation_section violation_type  \\\n",
       "0             22350             VC   \n",
       "1             22517             VC   \n",
       "2            21801A             VC   \n",
       "3             21657             VC   \n",
       "4            21801A             VC   \n",
       "\n",
       "                                         charge_desc injured killed  \\\n",
       "0                 UNSAFE SPEED (BASIC SPEED LAW) (I)       1      0   \n",
       "1                     UNSAFE OPENING OF VEH DOOR (I)       1      0   \n",
       "2             RIGHT-OF-WAY:MAKING LEFT OR U-TURN (I)       1      0   \n",
       "3  LANE USAGE:DISOBEY DESIGNATED TRAFFIC DIRECTIO...       1      0   \n",
       "4             RIGHT-OF-WAY:MAKING LEFT OR U-TURN (I)       1      0   \n",
       "\n",
       "  hit_run_lvl                                        address  \n",
       "0         NaN             1900 PERSHING DRIVE, San Diego, CA  \n",
       "1         NaN                   1400 BROADWAY, San Diego, CA  \n",
       "2         NaN                    MIRAMAR ROAD, San Diego, CA  \n",
       "3         NaN                 700 05TH AVENUE, San Diego, CA  \n",
       "4         NaN  4700 WEST POINT LOMA BOULEVARD, San Diego, CA  \n",
       "\n",
       "[5 rows x 23 columns]"
      ],
      "text/html": [
       "<div>\n",
       "<style scoped>\n",
       "    .dataframe tbody tr th:only-of-type {\n",
       "        vertical-align: middle;\n",
       "    }\n",
       "\n",
       "    .dataframe tbody tr th {\n",
       "        vertical-align: top;\n",
       "    }\n",
       "\n",
       "    .dataframe thead th {\n",
       "        text-align: right;\n",
       "    }\n",
       "</style>\n",
       "<table border=\"1\" class=\"dataframe\">\n",
       "  <thead>\n",
       "    <tr style=\"text-align: right;\">\n",
       "      <th></th>\n",
       "      <th>report_id</th>\n",
       "      <th>date</th>\n",
       "      <th>person_role</th>\n",
       "      <th>person_injury_lvl</th>\n",
       "      <th>person_veh_type</th>\n",
       "      <th>veh_type</th>\n",
       "      <th>veh_make</th>\n",
       "      <th>veh_model</th>\n",
       "      <th>police_beat</th>\n",
       "      <th>address_no_primary</th>\n",
       "      <th>...</th>\n",
       "      <th>address_pd_intersecting</th>\n",
       "      <th>address_name_intersecting</th>\n",
       "      <th>address_sfx_intersecting</th>\n",
       "      <th>violation_section</th>\n",
       "      <th>violation_type</th>\n",
       "      <th>charge_desc</th>\n",
       "      <th>injured</th>\n",
       "      <th>killed</th>\n",
       "      <th>hit_run_lvl</th>\n",
       "      <th>address</th>\n",
       "    </tr>\n",
       "  </thead>\n",
       "  <tbody>\n",
       "    <tr>\n",
       "      <th>0</th>\n",
       "      <td>20200140</td>\n",
       "      <td>2020-01-06</td>\n",
       "      <td>BICYCLIST</td>\n",
       "      <td>SEVERE</td>\n",
       "      <td>NaN</td>\n",
       "      <td>BICYCLE</td>\n",
       "      <td>GIANNINI</td>\n",
       "      <td>NaN</td>\n",
       "      <td>531</td>\n",
       "      <td>1900.0</td>\n",
       "      <td>...</td>\n",
       "      <td></td>\n",
       "      <td></td>\n",
       "      <td></td>\n",
       "      <td>22350</td>\n",
       "      <td>VC</td>\n",
       "      <td>UNSAFE SPEED (BASIC SPEED LAW) (I)</td>\n",
       "      <td>1</td>\n",
       "      <td>0</td>\n",
       "      <td>NaN</td>\n",
       "      <td>1900 PERSHING DRIVE, San Diego, CA</td>\n",
       "    </tr>\n",
       "    <tr>\n",
       "      <th>1</th>\n",
       "      <td>20200152</td>\n",
       "      <td>2020-01-07</td>\n",
       "      <td>BICYCLIST</td>\n",
       "      <td>PAIN</td>\n",
       "      <td>NaN</td>\n",
       "      <td>BICYCLE</td>\n",
       "      <td>NaN</td>\n",
       "      <td>NaN</td>\n",
       "      <td>521</td>\n",
       "      <td>1400.0</td>\n",
       "      <td>...</td>\n",
       "      <td></td>\n",
       "      <td></td>\n",
       "      <td></td>\n",
       "      <td>22517</td>\n",
       "      <td>VC</td>\n",
       "      <td>UNSAFE OPENING OF VEH DOOR (I)</td>\n",
       "      <td>1</td>\n",
       "      <td>0</td>\n",
       "      <td>NaN</td>\n",
       "      <td>1400 BROADWAY, San Diego, CA</td>\n",
       "    </tr>\n",
       "    <tr>\n",
       "      <th>2</th>\n",
       "      <td>20200153</td>\n",
       "      <td>2020-01-07</td>\n",
       "      <td>BICYCLIST</td>\n",
       "      <td>PAIN</td>\n",
       "      <td>NaN</td>\n",
       "      <td>BICYCLE</td>\n",
       "      <td>NaN</td>\n",
       "      <td>NaN</td>\n",
       "      <td>243</td>\n",
       "      <td>NaN</td>\n",
       "      <td>...</td>\n",
       "      <td></td>\n",
       "      <td>PADGETT</td>\n",
       "      <td>STREET</td>\n",
       "      <td>21801A</td>\n",
       "      <td>VC</td>\n",
       "      <td>RIGHT-OF-WAY:MAKING LEFT OR U-TURN (I)</td>\n",
       "      <td>1</td>\n",
       "      <td>0</td>\n",
       "      <td>NaN</td>\n",
       "      <td>MIRAMAR ROAD, San Diego, CA</td>\n",
       "    </tr>\n",
       "    <tr>\n",
       "      <th>3</th>\n",
       "      <td>20200237</td>\n",
       "      <td>2020-01-10</td>\n",
       "      <td>BICYCLIST</td>\n",
       "      <td>VISABLE</td>\n",
       "      <td>NaN</td>\n",
       "      <td>BICYCLE</td>\n",
       "      <td>FUJI ROBBT JR.</td>\n",
       "      <td>NaN</td>\n",
       "      <td>523</td>\n",
       "      <td>700.0</td>\n",
       "      <td>...</td>\n",
       "      <td></td>\n",
       "      <td></td>\n",
       "      <td></td>\n",
       "      <td>21657</td>\n",
       "      <td>VC</td>\n",
       "      <td>LANE USAGE:DISOBEY DESIGNATED TRAFFIC DIRECTIO...</td>\n",
       "      <td>1</td>\n",
       "      <td>0</td>\n",
       "      <td>NaN</td>\n",
       "      <td>700 05TH AVENUE, San Diego, CA</td>\n",
       "    </tr>\n",
       "    <tr>\n",
       "      <th>4</th>\n",
       "      <td>20200338</td>\n",
       "      <td>2020-01-13</td>\n",
       "      <td>BICYCLIST</td>\n",
       "      <td>PAIN</td>\n",
       "      <td>NaN</td>\n",
       "      <td>BICYCLE</td>\n",
       "      <td>GIANNINI</td>\n",
       "      <td>NaN</td>\n",
       "      <td>614</td>\n",
       "      <td>4700.0</td>\n",
       "      <td>...</td>\n",
       "      <td></td>\n",
       "      <td></td>\n",
       "      <td></td>\n",
       "      <td>21801A</td>\n",
       "      <td>VC</td>\n",
       "      <td>RIGHT-OF-WAY:MAKING LEFT OR U-TURN (I)</td>\n",
       "      <td>1</td>\n",
       "      <td>0</td>\n",
       "      <td>NaN</td>\n",
       "      <td>4700 WEST POINT LOMA BOULEVARD, San Diego, CA</td>\n",
       "    </tr>\n",
       "  </tbody>\n",
       "</table>\n",
       "<p>5 rows × 23 columns</p>\n",
       "</div>"
      ]
     },
     "execution_count": 2,
     "metadata": {},
     "output_type": "execute_result"
    }
   ],
   "execution_count": 2
  },
  {
   "metadata": {},
   "cell_type": "markdown",
   "source": "",
   "id": "53079d0f3c8ac201"
  },
  {
   "metadata": {},
   "cell_type": "markdown",
   "source": "<span style=\"color: white\"> Start of Data Preprocessing </span>",
   "id": "27a1e289a4f0d628"
  },
  {
   "metadata": {
    "ExecuteTime": {
     "end_time": "2025-07-09T03:29:41.221498Z",
     "start_time": "2025-07-09T03:29:41.207723Z"
    }
   },
   "cell_type": "code",
   "source": [
    "#We want to include columns we only want, and convert column values to binary values 0 and 1\n",
    "focus = bike_accidents[['person_injury_lvl', 'address']].copy()\n",
    "\n",
    "#Fill in NA values for injury lvl\n",
    "focus['person_injury_lvl'] = focus['person_injury_lvl'].fillna('Not Reported')\n",
    "\n",
    "#Map values to Integers \n",
    "focus['person_injury_lvl'] = focus['person_injury_lvl'].map({'Not Reported':0,'VISABLE':1,'PAIN':2,'MINOR':3,'SEVERE':4,'SERIOUS':5})\n",
    "# 0(0,1,2)  will be classified as light injuries, while 1(3,4,5) will be classifiers as heavy injuries\n",
    "focus['person_injury_lvl'] = focus['person_injury_lvl'].apply(lambda x: 0 if x in [0, 1, 2] else 1 )\n",
    "\n",
    "#Check if it works\n",
    "focus['person_injury_lvl'].value_counts(dropna=False)"
   ],
   "id": "1092e271d480ba5b",
   "outputs": [
    {
     "data": {
      "text/plain": [
       "person_injury_lvl\n",
       "0    747\n",
       "1    117\n",
       "Name: count, dtype: int64"
      ]
     },
     "execution_count": 3,
     "metadata": {},
     "output_type": "execute_result"
    }
   ],
   "execution_count": 3
  },
  {
   "metadata": {},
   "cell_type": "markdown",
   "source": [
    "<span style=\"color: white\"> So we notice that the proportion of light injury(0) is larger than Heavy Injury(1). This can be difficult for KNN to make predicitions.\n",
    " For this reason I chose to use SMOTE(Synthetic samples of the minority class) to compensate for the ratio. This could also also be fixed by using Random Forest with its parameter 'class_weight=balance', which is not available with KNN. Random Forest would handle imabalance and noise better than KNN but for the sake of this project of me wanting to stick with KNN this project will use KNN. </span>"
   ],
   "id": "492d9c51dfd8bde6"
  },
  {
   "metadata": {
    "ExecuteTime": {
     "end_time": "2025-07-09T03:30:10.819065Z",
     "start_time": "2025-07-09T03:30:10.798081Z"
    }
   },
   "cell_type": "code",
   "source": [
    "#Properly Format the Addresses\n",
    "def clean_address_column(df, column='address'):\n",
    "    def clean_address(addr):\n",
    "        if pd.isna(addr):\n",
    "            return addr\n",
    "\n",
    "        # Remove leading zeros in ordinal street names \n",
    "        addr = re.sub(r'\\b0+(\\d+)(ST|ND|RD|TH)\\b', r'\\1\\2', addr, flags=re.IGNORECASE)\n",
    "\n",
    "        # Remove vague directions like \"E FEET OF THE CURB LINE OF\"\n",
    "        addr = re.sub(r'\\b(?:\\d+\\s*)?(?:[NEWS]\\s+)?(?:FEET|FOOT)\\s+OF\\s+THE\\s+CURB(?:LINE)?\\s+OF\\s+', '', addr, flags=re.IGNORECASE)\n",
    "        addr = re.sub(r'\\b\\d+\\s+(?:[A-Z]+\\s+)*OF\\s+', '', addr, flags=re.IGNORECASE)\n",
    "\n",
    "        # Remove stray double spaces and trim\n",
    "        addr = re.sub(r'\\s{2,}', ' ', addr).strip()\n",
    "\n",
    "         #Normalize abbreviations (EXT ST into STREET)\n",
    "        addr = addr.replace('EXT ST', 'STREET')\n",
    "\n",
    "        return addr\n",
    "\n",
    "    df[column] = df[column].apply(clean_address)\n",
    "    return df\n",
    "\n",
    "format_focus = clean_address_column(focus)\n",
    "format_focus.head()"
   ],
   "id": "469716b7b821fb8d",
   "outputs": [
    {
     "data": {
      "text/plain": [
       "   person_injury_lvl                                        address\n",
       "0                  1             1900 PERSHING DRIVE, San Diego, CA\n",
       "1                  0                   1400 BROADWAY, San Diego, CA\n",
       "2                  0                    MIRAMAR ROAD, San Diego, CA\n",
       "3                  0                  700 5TH AVENUE, San Diego, CA\n",
       "4                  0  4700 WEST POINT LOMA BOULEVARD, San Diego, CA"
      ],
      "text/html": [
       "<div>\n",
       "<style scoped>\n",
       "    .dataframe tbody tr th:only-of-type {\n",
       "        vertical-align: middle;\n",
       "    }\n",
       "\n",
       "    .dataframe tbody tr th {\n",
       "        vertical-align: top;\n",
       "    }\n",
       "\n",
       "    .dataframe thead th {\n",
       "        text-align: right;\n",
       "    }\n",
       "</style>\n",
       "<table border=\"1\" class=\"dataframe\">\n",
       "  <thead>\n",
       "    <tr style=\"text-align: right;\">\n",
       "      <th></th>\n",
       "      <th>person_injury_lvl</th>\n",
       "      <th>address</th>\n",
       "    </tr>\n",
       "  </thead>\n",
       "  <tbody>\n",
       "    <tr>\n",
       "      <th>0</th>\n",
       "      <td>1</td>\n",
       "      <td>1900 PERSHING DRIVE, San Diego, CA</td>\n",
       "    </tr>\n",
       "    <tr>\n",
       "      <th>1</th>\n",
       "      <td>0</td>\n",
       "      <td>1400 BROADWAY, San Diego, CA</td>\n",
       "    </tr>\n",
       "    <tr>\n",
       "      <th>2</th>\n",
       "      <td>0</td>\n",
       "      <td>MIRAMAR ROAD, San Diego, CA</td>\n",
       "    </tr>\n",
       "    <tr>\n",
       "      <th>3</th>\n",
       "      <td>0</td>\n",
       "      <td>700 5TH AVENUE, San Diego, CA</td>\n",
       "    </tr>\n",
       "    <tr>\n",
       "      <th>4</th>\n",
       "      <td>0</td>\n",
       "      <td>4700 WEST POINT LOMA BOULEVARD, San Diego, CA</td>\n",
       "    </tr>\n",
       "  </tbody>\n",
       "</table>\n",
       "</div>"
      ]
     },
     "execution_count": 6,
     "metadata": {},
     "output_type": "execute_result"
    }
   ],
   "execution_count": 6
  },
  {
   "metadata": {
    "ExecuteTime": {
     "end_time": "2025-07-09T04:03:17.324598Z",
     "start_time": "2025-07-09T03:32:14.413497Z"
    }
   },
   "cell_type": "code",
   "source": [
    "#We want to convert the addresses into longitude and latitude\n",
    "\n",
    "#loading bar\n",
    "tqdm.pandas()\n",
    "geolocator = Nominatim(user_agent=\"Agent_Geopi\")\n",
    "\n",
    "cache = {}\n",
    "\n",
    "def cached_geocode(address):\n",
    "    if pd.isna(address) or not address.strip():\n",
    "        return pd.Series([None, None])\n",
    "    \n",
    "    if address in cache:\n",
    "        return cache[address]\n",
    "\n",
    "    for _ in range(3):  # Retry logic\n",
    "        try:\n",
    "            time.sleep(1.5)\n",
    "            location = geolocator.geocode(address)\n",
    "            if location:\n",
    "                result = pd.Series([location.latitude, location.longitude])\n",
    "                cache[address] = result\n",
    "                return result\n",
    "        except:\n",
    "            continue\n",
    "    result = pd.Series([None, None])\n",
    "    cache[address] = result\n",
    "    return result\n",
    "\n",
    "# Apply the geocoding\n",
    "#Note this takes about 20minutes to run \n",
    "format_focus[['latitude', 'longitude']] = format_focus['address'].progress_apply(cached_geocode)"
   ],
   "id": "7b9357c09e830f71",
   "outputs": [
    {
     "name": "stderr",
     "output_type": "stream",
     "text": [
      "100%|██████████| 864/864 [31:02<00:00,  2.16s/it]  \n"
     ]
    }
   ],
   "execution_count": 7
  },
  {
   "metadata": {},
   "cell_type": "markdown",
   "source": "<span style=\"color: white\"> By default geopy uses OpenStretMap's by Nominatim's service, which expalins why it takes so long to convert the addresses to into longitude and latitude. Note that using a paid API like Google Maps would greatly speed up the proccess.</span>",
   "id": "c01eed659d0ae3b9"
  },
  {
   "metadata": {
    "ExecuteTime": {
     "end_time": "2025-07-09T04:04:41.577336Z",
     "start_time": "2025-07-09T04:04:41.566704Z"
    }
   },
   "cell_type": "code",
   "source": [
    "#Check to see if any addresses are not read correctly\n",
    "format_focus['longitude'].isna().sum()\n",
    "format_focus.head()\n",
    "#There seems to be 41-49(It seems to change every run) addresses that were not read, but for the sake of time we will ignore the 49 addresses\n",
    "#I created a csv file below that stores the failed addresses for future fixes"
   ],
   "id": "7cb1e637372b0a92",
   "outputs": [
    {
     "data": {
      "text/plain": [
       "   person_injury_lvl   latitude   longitude\n",
       "0                  1  32.725330 -117.142089\n",
       "1                  0  32.716012 -117.151734\n",
       "2                  0  32.889956 -117.142683\n",
       "3                  0  32.625058 -117.082697\n",
       "4                  0  32.750665 -117.239887"
      ],
      "text/html": [
       "<div>\n",
       "<style scoped>\n",
       "    .dataframe tbody tr th:only-of-type {\n",
       "        vertical-align: middle;\n",
       "    }\n",
       "\n",
       "    .dataframe tbody tr th {\n",
       "        vertical-align: top;\n",
       "    }\n",
       "\n",
       "    .dataframe thead th {\n",
       "        text-align: right;\n",
       "    }\n",
       "</style>\n",
       "<table border=\"1\" class=\"dataframe\">\n",
       "  <thead>\n",
       "    <tr style=\"text-align: right;\">\n",
       "      <th></th>\n",
       "      <th>person_injury_lvl</th>\n",
       "      <th>latitude</th>\n",
       "      <th>longitude</th>\n",
       "    </tr>\n",
       "  </thead>\n",
       "  <tbody>\n",
       "    <tr>\n",
       "      <th>0</th>\n",
       "      <td>1</td>\n",
       "      <td>32.725330</td>\n",
       "      <td>-117.142089</td>\n",
       "    </tr>\n",
       "    <tr>\n",
       "      <th>1</th>\n",
       "      <td>0</td>\n",
       "      <td>32.716012</td>\n",
       "      <td>-117.151734</td>\n",
       "    </tr>\n",
       "    <tr>\n",
       "      <th>2</th>\n",
       "      <td>0</td>\n",
       "      <td>32.889956</td>\n",
       "      <td>-117.142683</td>\n",
       "    </tr>\n",
       "    <tr>\n",
       "      <th>3</th>\n",
       "      <td>0</td>\n",
       "      <td>32.625058</td>\n",
       "      <td>-117.082697</td>\n",
       "    </tr>\n",
       "    <tr>\n",
       "      <th>4</th>\n",
       "      <td>0</td>\n",
       "      <td>32.750665</td>\n",
       "      <td>-117.239887</td>\n",
       "    </tr>\n",
       "  </tbody>\n",
       "</table>\n",
       "</div>"
      ]
     },
     "execution_count": 11,
     "metadata": {},
     "output_type": "execute_result"
    }
   ],
   "execution_count": 11
  },
  {
   "metadata": {
    "ExecuteTime": {
     "end_time": "2025-07-09T04:04:00.687974Z",
     "start_time": "2025-07-09T04:03:57.097664Z"
    }
   },
   "cell_type": "code",
   "source": [
    "#Creates the csv file for addresses that were not read\n",
    "na_addresses = format_focus[focus['latitude'].isna() & format_focus['longitude'].isna()]\n",
    "print(na_addresses[['address']])\n",
    "\n",
    "na_addresses.to_csv('format_failed_geocodes.csv', index=False)"
   ],
   "id": "dce582fafb2955ec",
   "outputs": [
    {
     "ename": "KeyError",
     "evalue": "\"None of [Index(['address'], dtype='object')] are in the [columns]\"",
     "output_type": "error",
     "traceback": [
      "\u001B[31m---------------------------------------------------------------------------\u001B[39m",
      "\u001B[31mKeyError\u001B[39m                                  Traceback (most recent call last)",
      "\u001B[36mCell\u001B[39m\u001B[36m \u001B[39m\u001B[32mIn[9]\u001B[39m\u001B[32m, line 3\u001B[39m\n\u001B[32m      1\u001B[39m \u001B[38;5;66;03m#Creates the csv file for addresses that were not read\u001B[39;00m\n\u001B[32m      2\u001B[39m na_addresses = format_focus[focus[\u001B[33m'\u001B[39m\u001B[33mlatitude\u001B[39m\u001B[33m'\u001B[39m].isna() & format_focus[\u001B[33m'\u001B[39m\u001B[33mlongitude\u001B[39m\u001B[33m'\u001B[39m].isna()]\n\u001B[32m----> \u001B[39m\u001B[32m3\u001B[39m \u001B[38;5;28mprint\u001B[39m(na_addresses[[\u001B[33m'\u001B[39m\u001B[33maddress\u001B[39m\u001B[33m'\u001B[39m]])\n\u001B[32m      5\u001B[39m na_addresses.to_csv(\u001B[33m'\u001B[39m\u001B[33mformat_failed_geocodes.csv\u001B[39m\u001B[33m'\u001B[39m, index=\u001B[38;5;28;01mFalse\u001B[39;00m)\n",
      "\u001B[36mFile \u001B[39m\u001B[32m~\\miniconda3\\Lib\\site-packages\\pandas\\core\\frame.py:4108\u001B[39m, in \u001B[36mDataFrame.__getitem__\u001B[39m\u001B[34m(self, key)\u001B[39m\n\u001B[32m   4106\u001B[39m     \u001B[38;5;28;01mif\u001B[39;00m is_iterator(key):\n\u001B[32m   4107\u001B[39m         key = \u001B[38;5;28mlist\u001B[39m(key)\n\u001B[32m-> \u001B[39m\u001B[32m4108\u001B[39m     indexer = \u001B[38;5;28mself\u001B[39m.columns._get_indexer_strict(key, \u001B[33m\"\u001B[39m\u001B[33mcolumns\u001B[39m\u001B[33m\"\u001B[39m)[\u001B[32m1\u001B[39m]\n\u001B[32m   4110\u001B[39m \u001B[38;5;66;03m# take() does not accept boolean indexers\u001B[39;00m\n\u001B[32m   4111\u001B[39m \u001B[38;5;28;01mif\u001B[39;00m \u001B[38;5;28mgetattr\u001B[39m(indexer, \u001B[33m\"\u001B[39m\u001B[33mdtype\u001B[39m\u001B[33m\"\u001B[39m, \u001B[38;5;28;01mNone\u001B[39;00m) == \u001B[38;5;28mbool\u001B[39m:\n",
      "\u001B[36mFile \u001B[39m\u001B[32m~\\miniconda3\\Lib\\site-packages\\pandas\\core\\indexes\\base.py:6200\u001B[39m, in \u001B[36mIndex._get_indexer_strict\u001B[39m\u001B[34m(self, key, axis_name)\u001B[39m\n\u001B[32m   6197\u001B[39m \u001B[38;5;28;01melse\u001B[39;00m:\n\u001B[32m   6198\u001B[39m     keyarr, indexer, new_indexer = \u001B[38;5;28mself\u001B[39m._reindex_non_unique(keyarr)\n\u001B[32m-> \u001B[39m\u001B[32m6200\u001B[39m \u001B[38;5;28mself\u001B[39m._raise_if_missing(keyarr, indexer, axis_name)\n\u001B[32m   6202\u001B[39m keyarr = \u001B[38;5;28mself\u001B[39m.take(indexer)\n\u001B[32m   6203\u001B[39m \u001B[38;5;28;01mif\u001B[39;00m \u001B[38;5;28misinstance\u001B[39m(key, Index):\n\u001B[32m   6204\u001B[39m     \u001B[38;5;66;03m# GH 42790 - Preserve name from an Index\u001B[39;00m\n",
      "\u001B[36mFile \u001B[39m\u001B[32m~\\miniconda3\\Lib\\site-packages\\pandas\\core\\indexes\\base.py:6249\u001B[39m, in \u001B[36mIndex._raise_if_missing\u001B[39m\u001B[34m(self, key, indexer, axis_name)\u001B[39m\n\u001B[32m   6247\u001B[39m \u001B[38;5;28;01mif\u001B[39;00m nmissing:\n\u001B[32m   6248\u001B[39m     \u001B[38;5;28;01mif\u001B[39;00m nmissing == \u001B[38;5;28mlen\u001B[39m(indexer):\n\u001B[32m-> \u001B[39m\u001B[32m6249\u001B[39m         \u001B[38;5;28;01mraise\u001B[39;00m \u001B[38;5;167;01mKeyError\u001B[39;00m(\u001B[33mf\u001B[39m\u001B[33m\"\u001B[39m\u001B[33mNone of [\u001B[39m\u001B[38;5;132;01m{\u001B[39;00mkey\u001B[38;5;132;01m}\u001B[39;00m\u001B[33m] are in the [\u001B[39m\u001B[38;5;132;01m{\u001B[39;00maxis_name\u001B[38;5;132;01m}\u001B[39;00m\u001B[33m]\u001B[39m\u001B[33m\"\u001B[39m)\n\u001B[32m   6251\u001B[39m     not_found = \u001B[38;5;28mlist\u001B[39m(ensure_index(key)[missing_mask.nonzero()[\u001B[32m0\u001B[39m]].unique())\n\u001B[32m   6252\u001B[39m     \u001B[38;5;28;01mraise\u001B[39;00m \u001B[38;5;167;01mKeyError\u001B[39;00m(\u001B[33mf\u001B[39m\u001B[33m\"\u001B[39m\u001B[38;5;132;01m{\u001B[39;00mnot_found\u001B[38;5;132;01m}\u001B[39;00m\u001B[33m not in index\u001B[39m\u001B[33m\"\u001B[39m)\n",
      "\u001B[31mKeyError\u001B[39m: \"None of [Index(['address'], dtype='object')] are in the [columns]\""
     ]
    }
   ],
   "execution_count": 9
  },
  {
   "metadata": {},
   "cell_type": "code",
   "outputs": [],
   "execution_count": null,
   "source": [
    "#After csv is made now we drop the column address since we do not need it anymore \n",
    "format_focus = format_focus.drop(columns=['address'])"
   ],
   "id": "278d3827545730f2"
  },
  {
   "metadata": {
    "ExecuteTime": {
     "end_time": "2025-07-09T04:05:37.658044Z",
     "start_time": "2025-07-09T04:05:37.647932Z"
    }
   },
   "cell_type": "code",
   "source": [
    "#Drop the NA values\n",
    "format_focus = format_focus.dropna()\n",
    "format_focus['longitude'].isna().sum()\n",
    "#Result should be 0"
   ],
   "id": "bfe05cc11ecad56b",
   "outputs": [
    {
     "data": {
      "text/plain": [
       "np.int64(0)"
      ]
     },
     "execution_count": 12,
     "metadata": {},
     "output_type": "execute_result"
    }
   ],
   "execution_count": 12
  },
  {
   "metadata": {},
   "cell_type": "markdown",
   "source": "<span style=\"color: white\"> End of Data Preprocessing </span>",
   "id": "49012bc5de727d2a"
  },
  {
   "metadata": {},
   "cell_type": "markdown",
   "source": "<span style=\"color: white\"> Start of Builidng KNN Model </span>",
   "id": "522908bb07a2ad75"
  },
  {
   "metadata": {
    "ExecuteTime": {
     "end_time": "2025-07-09T04:07:29.247640Z",
     "start_time": "2025-07-09T04:07:29.216634Z"
    }
   },
   "cell_type": "code",
   "source": [
    "#Create Features  and Target Variables\n",
    "X = format_focus.drop(columns = ['person_injury_lvl'])\n",
    "y = format_focus['person_injury_lvl']\n",
    "\n",
    "X_train,X_test,y_train,y_test = train_test_split(X, y,  test_size=0.25, random_state = 42)\n"
   ],
   "id": "a9dc2ee3df0fa26b",
   "outputs": [],
   "execution_count": 13
  },
  {
   "metadata": {
    "ExecuteTime": {
     "end_time": "2025-07-09T04:07:30.697408Z",
     "start_time": "2025-07-09T04:07:30.680391Z"
    }
   },
   "cell_type": "code",
   "source": [
    "#Ml Preprocessing\n",
    "scaler = MinMaxScaler()\n",
    "X_train = scaler.fit_transform(X_train)\n",
    "X_test = scaler.transform(X_test)\n"
   ],
   "id": "9aa7d5d90e9b0607",
   "outputs": [],
   "execution_count": 14
  },
  {
   "metadata": {
    "ExecuteTime": {
     "end_time": "2025-07-09T04:07:32.133458Z",
     "start_time": "2025-07-09T04:07:32.101611Z"
    }
   },
   "cell_type": "code",
   "source": [
    "#Use smote to deal with the data imbalance\n",
    "smote = SMOTE(random_state=42, k_neighbors = 1)\n",
    "X_train, y_train = smote.fit_resample(X_train, y_train)"
   ],
   "id": "afccd2b4763ec547",
   "outputs": [],
   "execution_count": 15
  },
  {
   "metadata": {
    "ExecuteTime": {
     "end_time": "2025-07-09T04:07:39.833446Z",
     "start_time": "2025-07-09T04:07:33.442757Z"
    }
   },
   "cell_type": "code",
   "source": [
    "#Hyperparameter Tuning\n",
    "def tune_model(X_train,y_train):\n",
    "    param_grid = {\n",
    "        'n_neighbors': range(1,21),\n",
    "        'metric' : ['euclidean','manhattan','minkowski'],\n",
    "        'weights' : ['uniform','distance']\n",
    "    }\n",
    "    \n",
    "    model = KNeighborsClassifier()\n",
    "    grid_search = GridSearchCV(model,param_grid,cv=5,n_jobs=-1)\n",
    "    grid_search.fit(X_train,y_train)\n",
    "    return grid_search.best_estimator_\n",
    "    \n",
    "    \n",
    "best_knn = tune_model(X_train,y_train)\n",
    "\n"
   ],
   "id": "97fcf2cdf1b93685",
   "outputs": [],
   "execution_count": 16
  },
  {
   "metadata": {
    "ExecuteTime": {
     "end_time": "2025-07-09T04:07:41.076704Z",
     "start_time": "2025-07-09T04:07:41.054651Z"
    }
   },
   "cell_type": "code",
   "source": [
    "#Prediction and evaluation\n",
    "y_pred = best_knn.predict(X_test)\n",
    "print(classification_report(y_test,y_pred))\n",
    "print(confusion_matrix(y_test, y_pred))\n",
    "matrix = confusion_matrix(y_test, y_pred)"
   ],
   "id": "f9fc27684245409e",
   "outputs": [
    {
     "name": "stdout",
     "output_type": "stream",
     "text": [
      "              precision    recall  f1-score   support\n",
      "\n",
      "           0       0.88      0.84      0.86       181\n",
      "           1       0.19      0.26      0.22        27\n",
      "\n",
      "    accuracy                           0.76       208\n",
      "   macro avg       0.54      0.55      0.54       208\n",
      "weighted avg       0.79      0.76      0.78       208\n",
      "\n",
      "[[152  29]\n",
      " [ 20   7]]\n"
     ]
    }
   ],
   "execution_count": 17
  },
  {
   "metadata": {},
   "cell_type": "markdown",
   "source": "<span style=\"color: white\"> Even with SMOTE the model still fails to properly predict the high level injury(1). At this point switching to Random Forest might be better to handle unbalance data as mentioned earlier </span>",
   "id": "e24101540e5fe8ff"
  },
  {
   "metadata": {
    "ExecuteTime": {
     "end_time": "2025-07-09T04:09:20.828822Z",
     "start_time": "2025-07-09T04:09:20.454891Z"
    }
   },
   "cell_type": "code",
   "source": [
    "#Plot Heatmap\n",
    "def plot_model(matrix):\n",
    "    plt.figure(figsize=(10,7))\n",
    "    sns.heatmap(matrix,annot=True,fmt='d', xticklabels=['Low injury','High Injury'], yticklabels=['Low injury','High Injury'])\n",
    "    plt.title('Confusion Matrix')\n",
    "    plt.show()\n",
    "    \n",
    "plot_model(matrix)\n",
    "    "
   ],
   "id": "45d336c959aa6708",
   "outputs": [
    {
     "data": {
      "text/plain": [
       "<Figure size 1000x700 with 2 Axes>"
      ],
      "image/png": "[encoded data removed]"
     },
     "metadata": {},
     "output_type": "display_data"
    }
   ],
   "execution_count": 18
  },
  {
   "metadata": {},
   "cell_type": "markdown",
   "source": "<span style=\"color: white\"> End of Model Building </span>",
   "id": "9027089ee15a598b"
  }
 ],
 "metadata": {
  "kernelspec": {
   "display_name": "Python 3",
   "language": "python",
   "name": "python3"
  },
  "language_info": {
   "codemirror_mode": {
    "name": "ipython",
    "version": 2
   },
   "file_extension": ".py",
   "mimetype": "text/x-python",
   "name": "python",
   "nbconvert_exporter": "python",
   "pygments_lexer": "ipython2",
   "version": "2.7.6"
  }
 },
 "nbformat": 4,
 "nbformat_minor": 5
}
