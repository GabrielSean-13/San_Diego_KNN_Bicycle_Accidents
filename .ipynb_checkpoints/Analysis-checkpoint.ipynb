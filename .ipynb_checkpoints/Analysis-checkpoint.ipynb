{
 "cells": [
  {
   "cell_type": "code",
   "id": "initial_id",
   "metadata": {
    "collapsed": true,
    "ExecuteTime": {
     "end_time": "2025-07-08T21:31:39.983017Z",
     "start_time": "2025-07-08T21:31:39.977015Z"
    }
   },
   "source": [
    "from geopy.geocoders import Nominatim\n",
    "from tqdm import tqdm\n",
    "from sklearn.model_selection import train_test_split\n",
    "from sklearn.preprocessing import MinMaxScaler\n",
    "from sklearn.model_selection import GridSearchCV\n",
    "from sklearn.neighbors import KNeighborsClassifier\n",
    "from sklearn.metrics import classification_report, confusion_matrix\n",
    "from imblearn.over_sampling import SMOTE\n",
    "import pandas as pd\n",
    "import re\n",
    "import time\n"
   ],
   "outputs": [],
   "execution_count": 61
  },
  {
   "metadata": {
    "ExecuteTime": {
     "end_time": "2025-07-08T21:31:41.403557Z",
     "start_time": "2025-07-08T21:31:41.360391Z"
    }
   },
   "cell_type": "code",
   "source": [
    "#Check to see if we loaded our data properly\n",
    "bike_accidents = pd.read_csv(r\"C:\\Users\\whift\\PycharmProjects\\Traffice_Collisions\\cleaned_bike_accidents.csv\")\n",
    "bike_accidents.head()"
   ],
   "id": "8b133fb07449f204",
   "outputs": [
    {
     "data": {
      "text/plain": [
       "   report_id        date person_role person_injury_lvl person_veh_type  \\\n",
       "0   20200140  2020-01-06   BICYCLIST            SEVERE             NaN   \n",
       "1   20200152  2020-01-07   BICYCLIST              PAIN             NaN   \n",
       "2   20200153  2020-01-07   BICYCLIST              PAIN             NaN   \n",
       "3   20200237  2020-01-10   BICYCLIST           VISABLE             NaN   \n",
       "4   20200338  2020-01-13   BICYCLIST              PAIN             NaN   \n",
       "\n",
       "  veh_type        veh_make  veh_model  police_beat  address_no_primary  ...  \\\n",
       "0  BICYCLE        GIANNINI        NaN          531              1900.0  ...   \n",
       "1  BICYCLE             NaN        NaN          521              1400.0  ...   \n",
       "2  BICYCLE             NaN        NaN          243                 NaN  ...   \n",
       "3  BICYCLE  FUJI ROBBT JR.        NaN          523               700.0  ...   \n",
       "4  BICYCLE        GIANNINI        NaN          614              4700.0  ...   \n",
       "\n",
       "  address_pd_intersecting address_name_intersecting address_sfx_intersecting  \\\n",
       "0                                                                              \n",
       "1                                                                              \n",
       "2                                           PADGETT                   STREET   \n",
       "3                                                                              \n",
       "4                                                                              \n",
       "\n",
       "  violation_section violation_type  \\\n",
       "0             22350             VC   \n",
       "1             22517             VC   \n",
       "2            21801A             VC   \n",
       "3             21657             VC   \n",
       "4            21801A             VC   \n",
       "\n",
       "                                         charge_desc injured killed  \\\n",
       "0                 UNSAFE SPEED (BASIC SPEED LAW) (I)       1      0   \n",
       "1                     UNSAFE OPENING OF VEH DOOR (I)       1      0   \n",
       "2             RIGHT-OF-WAY:MAKING LEFT OR U-TURN (I)       1      0   \n",
       "3  LANE USAGE:DISOBEY DESIGNATED TRAFFIC DIRECTIO...       1      0   \n",
       "4             RIGHT-OF-WAY:MAKING LEFT OR U-TURN (I)       1      0   \n",
       "\n",
       "  hit_run_lvl                                        address  \n",
       "0         NaN             1900 PERSHING DRIVE, San Diego, CA  \n",
       "1         NaN                   1400 BROADWAY, San Diego, CA  \n",
       "2         NaN                    MIRAMAR ROAD, San Diego, CA  \n",
       "3         NaN                 700 05TH AVENUE, San Diego, CA  \n",
       "4         NaN  4700 WEST POINT LOMA BOULEVARD, San Diego, CA  \n",
       "\n",
       "[5 rows x 23 columns]"
      ],
      "text/html": [
       "<div>\n",
       "<style scoped>\n",
       "    .dataframe tbody tr th:only-of-type {\n",
       "        vertical-align: middle;\n",
       "    }\n",
       "\n",
       "    .dataframe tbody tr th {\n",
       "        vertical-align: top;\n",
       "    }\n",
       "\n",
       "    .dataframe thead th {\n",
       "        text-align: right;\n",
       "    }\n",
       "</style>\n",
       "<table border=\"1\" class=\"dataframe\">\n",
       "  <thead>\n",
       "    <tr style=\"text-align: right;\">\n",
       "      <th></th>\n",
       "      <th>report_id</th>\n",
       "      <th>date</th>\n",
       "      <th>person_role</th>\n",
       "      <th>person_injury_lvl</th>\n",
       "      <th>person_veh_type</th>\n",
       "      <th>veh_type</th>\n",
       "      <th>veh_make</th>\n",
       "      <th>veh_model</th>\n",
       "      <th>police_beat</th>\n",
       "      <th>address_no_primary</th>\n",
       "      <th>...</th>\n",
       "      <th>address_pd_intersecting</th>\n",
       "      <th>address_name_intersecting</th>\n",
       "      <th>address_sfx_intersecting</th>\n",
       "      <th>violation_section</th>\n",
       "      <th>violation_type</th>\n",
       "      <th>charge_desc</th>\n",
       "      <th>injured</th>\n",
       "      <th>killed</th>\n",
       "      <th>hit_run_lvl</th>\n",
       "      <th>address</th>\n",
       "    </tr>\n",
       "  </thead>\n",
       "  <tbody>\n",
       "    <tr>\n",
       "      <th>0</th>\n",
       "      <td>20200140</td>\n",
       "      <td>2020-01-06</td>\n",
       "      <td>BICYCLIST</td>\n",
       "      <td>SEVERE</td>\n",
       "      <td>NaN</td>\n",
       "      <td>BICYCLE</td>\n",
       "      <td>GIANNINI</td>\n",
       "      <td>NaN</td>\n",
       "      <td>531</td>\n",
       "      <td>1900.0</td>\n",
       "      <td>...</td>\n",
       "      <td></td>\n",
       "      <td></td>\n",
       "      <td></td>\n",
       "      <td>22350</td>\n",
       "      <td>VC</td>\n",
       "      <td>UNSAFE SPEED (BASIC SPEED LAW) (I)</td>\n",
       "      <td>1</td>\n",
       "      <td>0</td>\n",
       "      <td>NaN</td>\n",
       "      <td>1900 PERSHING DRIVE, San Diego, CA</td>\n",
       "    </tr>\n",
       "    <tr>\n",
       "      <th>1</th>\n",
       "      <td>20200152</td>\n",
       "      <td>2020-01-07</td>\n",
       "      <td>BICYCLIST</td>\n",
       "      <td>PAIN</td>\n",
       "      <td>NaN</td>\n",
       "      <td>BICYCLE</td>\n",
       "      <td>NaN</td>\n",
       "      <td>NaN</td>\n",
       "      <td>521</td>\n",
       "      <td>1400.0</td>\n",
       "      <td>...</td>\n",
       "      <td></td>\n",
       "      <td></td>\n",
       "      <td></td>\n",
       "      <td>22517</td>\n",
       "      <td>VC</td>\n",
       "      <td>UNSAFE OPENING OF VEH DOOR (I)</td>\n",
       "      <td>1</td>\n",
       "      <td>0</td>\n",
       "      <td>NaN</td>\n",
       "      <td>1400 BROADWAY, San Diego, CA</td>\n",
       "    </tr>\n",
       "    <tr>\n",
       "      <th>2</th>\n",
       "      <td>20200153</td>\n",
       "      <td>2020-01-07</td>\n",
       "      <td>BICYCLIST</td>\n",
       "      <td>PAIN</td>\n",
       "      <td>NaN</td>\n",
       "      <td>BICYCLE</td>\n",
       "      <td>NaN</td>\n",
       "      <td>NaN</td>\n",
       "      <td>243</td>\n",
       "      <td>NaN</td>\n",
       "      <td>...</td>\n",
       "      <td></td>\n",
       "      <td>PADGETT</td>\n",
       "      <td>STREET</td>\n",
       "      <td>21801A</td>\n",
       "      <td>VC</td>\n",
       "      <td>RIGHT-OF-WAY:MAKING LEFT OR U-TURN (I)</td>\n",
       "      <td>1</td>\n",
       "      <td>0</td>\n",
       "      <td>NaN</td>\n",
       "      <td>MIRAMAR ROAD, San Diego, CA</td>\n",
       "    </tr>\n",
       "    <tr>\n",
       "      <th>3</th>\n",
       "      <td>20200237</td>\n",
       "      <td>2020-01-10</td>\n",
       "      <td>BICYCLIST</td>\n",
       "      <td>VISABLE</td>\n",
       "      <td>NaN</td>\n",
       "      <td>BICYCLE</td>\n",
       "      <td>FUJI ROBBT JR.</td>\n",
       "      <td>NaN</td>\n",
       "      <td>523</td>\n",
       "      <td>700.0</td>\n",
       "      <td>...</td>\n",
       "      <td></td>\n",
       "      <td></td>\n",
       "      <td></td>\n",
       "      <td>21657</td>\n",
       "      <td>VC</td>\n",
       "      <td>LANE USAGE:DISOBEY DESIGNATED TRAFFIC DIRECTIO...</td>\n",
       "      <td>1</td>\n",
       "      <td>0</td>\n",
       "      <td>NaN</td>\n",
       "      <td>700 05TH AVENUE, San Diego, CA</td>\n",
       "    </tr>\n",
       "    <tr>\n",
       "      <th>4</th>\n",
       "      <td>20200338</td>\n",
       "      <td>2020-01-13</td>\n",
       "      <td>BICYCLIST</td>\n",
       "      <td>PAIN</td>\n",
       "      <td>NaN</td>\n",
       "      <td>BICYCLE</td>\n",
       "      <td>GIANNINI</td>\n",
       "      <td>NaN</td>\n",
       "      <td>614</td>\n",
       "      <td>4700.0</td>\n",
       "      <td>...</td>\n",
       "      <td></td>\n",
       "      <td></td>\n",
       "      <td></td>\n",
       "      <td>21801A</td>\n",
       "      <td>VC</td>\n",
       "      <td>RIGHT-OF-WAY:MAKING LEFT OR U-TURN (I)</td>\n",
       "      <td>1</td>\n",
       "      <td>0</td>\n",
       "      <td>NaN</td>\n",
       "      <td>4700 WEST POINT LOMA BOULEVARD, San Diego, CA</td>\n",
       "    </tr>\n",
       "  </tbody>\n",
       "</table>\n",
       "<p>5 rows × 23 columns</p>\n",
       "</div>"
      ]
     },
     "execution_count": 62,
     "metadata": {},
     "output_type": "execute_result"
    }
   ],
   "execution_count": 62
  },
  {
   "metadata": {
    "ExecuteTime": {
     "end_time": "2025-07-08T21:31:43.707547Z",
     "start_time": "2025-07-08T21:31:43.695706Z"
    }
   },
   "cell_type": "code",
   "source": [
    "#Preprocessing data we want to include columns we only want and convert columns to the right data frame\n",
    "focus = bike_accidents[['person_injury_lvl', 'address']].copy()\n",
    "\n",
    "#Fill in NA values for injury lvl\n",
    "focus['person_injury_lvl'] = focus['person_injury_lvl'].fillna('Not Reported')\n",
    "\n",
    "#Map values to Integers \n",
    "focus['person_injury_lvl'] = focus['person_injury_lvl'].map({'Not Reported':0,'VISABLE':1,'PAIN':2,'MINOR':3,'SEVERE':4,'SERIOUS':5})\n",
    "focus['person_injury_lvl'] = focus['person_injury_lvl'].apply(lambda x: 0 if x in [0, 1, 2] else 1 )\n",
    "\n",
    "#Check if it works\n",
    "focus['person_injury_lvl'].value_counts(dropna=False)\n",
    "\n",
    "\n"
   ],
   "id": "1092e271d480ba5b",
   "outputs": [
    {
     "data": {
      "text/plain": [
       "person_injury_lvl\n",
       "Low Injury     747\n",
       "High Injury    117\n",
       "Name: count, dtype: int64"
      ]
     },
     "execution_count": 63,
     "metadata": {},
     "output_type": "execute_result"
    }
   ],
   "execution_count": 63
  },
  {
   "metadata": {
    "ExecuteTime": {
     "end_time": "2025-07-08T21:31:48.562074Z",
     "start_time": "2025-07-08T21:31:48.546292Z"
    }
   },
   "cell_type": "code",
   "source": [
    "#Properly Format the Addresses\n",
    "\n",
    "def clean_address_column(df, column='address'):\n",
    "    def clean_address(addr):\n",
    "        if pd.isna(addr):\n",
    "            return addr\n",
    "\n",
    "        # Remove leading zeros in ordinal street names \n",
    "        addr = re.sub(r'\\b0+(\\d+)(ST|ND|RD|TH)\\b', r'\\1\\2', addr, flags=re.IGNORECASE)\n",
    "\n",
    "        # Remove vague directions like \"E FEET OF THE CURB LINE OF\"\n",
    "        addr = re.sub(r'\\b(?:\\d+\\s*)?(?:[NEWS]\\s+)?(?:FEET|FOOT)\\s+OF\\s+THE\\s+CURB(?:LINE)?\\s+OF\\s+', '', addr, flags=re.IGNORECASE)\n",
    "        addr = re.sub(r'\\b\\d+\\s+(?:[A-Z]+\\s+)*OF\\s+', '', addr, flags=re.IGNORECASE)\n",
    "\n",
    "        # Remove stray double spaces and trim\n",
    "        addr = re.sub(r'\\s{2,}', ' ', addr).strip()\n",
    "\n",
    "         #Normalize abbreviations (EXT ST → STREET)\n",
    "        addr = addr.replace('EXT ST', 'STREET')\n",
    "\n",
    "        return addr\n",
    "\n",
    "    \n",
    "    df[column] = df[column].apply(clean_address)\n",
    "    return df\n",
    "\n",
    "format_focus = clean_address_column(focus)\n"
   ],
   "id": "469716b7b821fb8d",
   "outputs": [],
   "execution_count": 64
  },
  {
   "metadata": {
    "ExecuteTime": {
     "end_time": "2025-07-08T21:31:51.357482Z",
     "start_time": "2025-07-08T21:31:51.347788Z"
    }
   },
   "cell_type": "code",
   "source": "format_focus.head()",
   "id": "d5b57d19db07d6b5",
   "outputs": [
    {
     "data": {
      "text/plain": [
       "  person_injury_lvl                                        address\n",
       "0       High Injury             1900 PERSHING DRIVE, San Diego, CA\n",
       "1        Low Injury                   1400 BROADWAY, San Diego, CA\n",
       "2        Low Injury                    MIRAMAR ROAD, San Diego, CA\n",
       "3        Low Injury                  700 5TH AVENUE, San Diego, CA\n",
       "4        Low Injury  4700 WEST POINT LOMA BOULEVARD, San Diego, CA"
      ],
      "text/html": [
       "<div>\n",
       "<style scoped>\n",
       "    .dataframe tbody tr th:only-of-type {\n",
       "        vertical-align: middle;\n",
       "    }\n",
       "\n",
       "    .dataframe tbody tr th {\n",
       "        vertical-align: top;\n",
       "    }\n",
       "\n",
       "    .dataframe thead th {\n",
       "        text-align: right;\n",
       "    }\n",
       "</style>\n",
       "<table border=\"1\" class=\"dataframe\">\n",
       "  <thead>\n",
       "    <tr style=\"text-align: right;\">\n",
       "      <th></th>\n",
       "      <th>person_injury_lvl</th>\n",
       "      <th>address</th>\n",
       "    </tr>\n",
       "  </thead>\n",
       "  <tbody>\n",
       "    <tr>\n",
       "      <th>0</th>\n",
       "      <td>High Injury</td>\n",
       "      <td>1900 PERSHING DRIVE, San Diego, CA</td>\n",
       "    </tr>\n",
       "    <tr>\n",
       "      <th>1</th>\n",
       "      <td>Low Injury</td>\n",
       "      <td>1400 BROADWAY, San Diego, CA</td>\n",
       "    </tr>\n",
       "    <tr>\n",
       "      <th>2</th>\n",
       "      <td>Low Injury</td>\n",
       "      <td>MIRAMAR ROAD, San Diego, CA</td>\n",
       "    </tr>\n",
       "    <tr>\n",
       "      <th>3</th>\n",
       "      <td>Low Injury</td>\n",
       "      <td>700 5TH AVENUE, San Diego, CA</td>\n",
       "    </tr>\n",
       "    <tr>\n",
       "      <th>4</th>\n",
       "      <td>Low Injury</td>\n",
       "      <td>4700 WEST POINT LOMA BOULEVARD, San Diego, CA</td>\n",
       "    </tr>\n",
       "  </tbody>\n",
       "</table>\n",
       "</div>"
      ]
     },
     "execution_count": 65,
     "metadata": {},
     "output_type": "execute_result"
    }
   ],
   "execution_count": 65
  },
  {
   "metadata": {
    "jupyter": {
     "is_executing": true
    },
    "ExecuteTime": {
     "start_time": "2025-07-08T21:31:54.049743Z"
    }
   },
   "cell_type": "code",
   "source": [
    "#Future fix \n",
    "\n",
    "\n",
    "tqdm.pandas()\n",
    "geolocator = Nominatim(user_agent=\"geoapi\")\n",
    "\n",
    "cache = {}\n",
    "\n",
    "def cached_geocode(address):\n",
    "    if pd.isna(address) or not address.strip():\n",
    "        return pd.Series([None, None])\n",
    "    \n",
    "    if address in cache:\n",
    "        return cache[address]\n",
    "\n",
    "    for _ in range(3):  # Retry logic\n",
    "        try:\n",
    "            time.sleep(1.5)\n",
    "            location = geolocator.geocode(address)\n",
    "            if location:\n",
    "                result = pd.Series([location.latitude, location.longitude])\n",
    "                cache[address] = result\n",
    "                return result\n",
    "        except:\n",
    "            continue\n",
    "    result = pd.Series([None, None])\n",
    "    cache[address] = result\n",
    "    return result\n",
    "\n",
    "# Step 3: Apply geocoding\n",
    "format_focus[['latitude', 'longitude']] = format_focus['address'].progress_apply(cached_geocode)\n"
   ],
   "id": "7b9357c09e830f71",
   "outputs": [
    {
     "name": "stderr",
     "output_type": "stream",
     "text": [
      " 21%|██        | 179/864 [07:37<50:15,  4.40s/it]  "
     ]
    }
   ],
   "execution_count": null
  },
  {
   "metadata": {},
   "cell_type": "code",
   "source": [
    "#Now convert addresses into latitude and longitude\n",
    "\n",
    "tqdm.pandas()  # for progress bar, takes on average 20min to run\n",
    "\n",
    "cache = {}\n",
    "geolocator = Nominatim(user_agent=\"converter\")\n",
    "\n",
    "def cached_geocode(address):\n",
    "    if address in cache:\n",
    "        return cache[address]\n",
    "    try:\n",
    "        time.sleep(1)\n",
    "        location = geolocator.geocode(address)\n",
    "        result = pd.Series([location.latitude, location.longitude]) if location else pd.Series([None, None])\n",
    "    except:\n",
    "        result = pd.Series([None, None])\n",
    "    cache[address] = result\n",
    "    return result\n",
    "\n",
    "format_focus[['latitude', 'longitude']] = format_focus['address'].progress_apply(cached_geocode)\n",
    "format_focus = format_focus.drop(columns=['address'])\n",
    "\n",
    "\n"
   ],
   "id": "82cfd5eec2420025",
   "outputs": [],
   "execution_count": null
  },
  {
   "metadata": {
    "ExecuteTime": {
     "end_time": "2025-07-08T20:01:11.198095Z",
     "start_time": "2025-07-08T20:01:11.186626Z"
    }
   },
   "cell_type": "code",
   "source": [
    "format_focus = format_focus.drop(columns=['address'])\n",
    "format_focus.head()"
   ],
   "id": "6a4e64a4b5e11352",
   "outputs": [
    {
     "data": {
      "text/plain": [
       "   person_injury_lvl   latitude   longitude\n",
       "0                  4  32.725330 -117.142089\n",
       "1                  2  32.716012 -117.151734\n",
       "2                  2  32.889956 -117.142683\n",
       "3                  1  32.625058 -117.082697\n",
       "4                  2  32.750665 -117.239887"
      ],
      "text/html": [
       "<div>\n",
       "<style scoped>\n",
       "    .dataframe tbody tr th:only-of-type {\n",
       "        vertical-align: middle;\n",
       "    }\n",
       "\n",
       "    .dataframe tbody tr th {\n",
       "        vertical-align: top;\n",
       "    }\n",
       "\n",
       "    .dataframe thead th {\n",
       "        text-align: right;\n",
       "    }\n",
       "</style>\n",
       "<table border=\"1\" class=\"dataframe\">\n",
       "  <thead>\n",
       "    <tr style=\"text-align: right;\">\n",
       "      <th></th>\n",
       "      <th>person_injury_lvl</th>\n",
       "      <th>latitude</th>\n",
       "      <th>longitude</th>\n",
       "    </tr>\n",
       "  </thead>\n",
       "  <tbody>\n",
       "    <tr>\n",
       "      <th>0</th>\n",
       "      <td>4</td>\n",
       "      <td>32.725330</td>\n",
       "      <td>-117.142089</td>\n",
       "    </tr>\n",
       "    <tr>\n",
       "      <th>1</th>\n",
       "      <td>2</td>\n",
       "      <td>32.716012</td>\n",
       "      <td>-117.151734</td>\n",
       "    </tr>\n",
       "    <tr>\n",
       "      <th>2</th>\n",
       "      <td>2</td>\n",
       "      <td>32.889956</td>\n",
       "      <td>-117.142683</td>\n",
       "    </tr>\n",
       "    <tr>\n",
       "      <th>3</th>\n",
       "      <td>1</td>\n",
       "      <td>32.625058</td>\n",
       "      <td>-117.082697</td>\n",
       "    </tr>\n",
       "    <tr>\n",
       "      <th>4</th>\n",
       "      <td>2</td>\n",
       "      <td>32.750665</td>\n",
       "      <td>-117.239887</td>\n",
       "    </tr>\n",
       "  </tbody>\n",
       "</table>\n",
       "</div>"
      ]
     },
     "execution_count": 17,
     "metadata": {},
     "output_type": "execute_result"
    }
   ],
   "execution_count": 17
  },
  {
   "metadata": {},
   "cell_type": "code",
   "source": [
    "#Check to see if any addresses are not read correctly\n",
    "format_focus['longitude'].isna().sum()\n",
    "#There seems to be 41-49(It seems to change every run) addresses that were not read, but for the sake of time we will ignore the 49 addresses\n",
    "#I created a csv file below that stores the failed addresses for future fixes"
   ],
   "id": "7cb1e637372b0a92",
   "outputs": [],
   "execution_count": null
  },
  {
   "metadata": {},
   "cell_type": "code",
   "source": [
    "#Creates the csv file for addresses that were not read\n",
    "na_addresses = format_focus[focus['latitude'].isna() & format_focus['longitude'].isna()]\n",
    "print(na_addresses[['address']])\n",
    "\n",
    "na_addresses.to_csv('format_failed_geocodes.csv', index=False)\n",
    "\n"
   ],
   "id": "dce582fafb2955ec",
   "outputs": [],
   "execution_count": null
  },
  {
   "metadata": {
    "ExecuteTime": {
     "end_time": "2025-07-08T20:20:44.144297Z",
     "start_time": "2025-07-08T20:20:44.103707Z"
    }
   },
   "cell_type": "code",
   "source": [
    "#Drop the NA values\n",
    "format_focus = format_focus.dropna()\n",
    "format_focus['longitude'].isna().sum()\n",
    "#Result should be 0"
   ],
   "id": "bfe05cc11ecad56b",
   "outputs": [
    {
     "data": {
      "text/plain": [
       "np.int64(0)"
      ]
     },
     "execution_count": 20,
     "metadata": {},
     "output_type": "execute_result"
    }
   ],
   "execution_count": 20
  },
  {
   "metadata": {
    "ExecuteTime": {
     "end_time": "2025-07-08T21:25:40.785730Z",
     "start_time": "2025-07-08T21:25:40.765318Z"
    }
   },
   "cell_type": "code",
   "source": "format_focus['person_injury_lvl'].value_counts().sort_values(ascending=False)",
   "id": "ed10921ebc8467e",
   "outputs": [
    {
     "data": {
      "text/plain": [
       "person_injury_lvl\n",
       "1    448\n",
       "2    201\n",
       "4     50\n",
       "3     50\n",
       "0     20\n",
       "5      3\n",
       "Name: count, dtype: int64"
      ]
     },
     "execution_count": 58,
     "metadata": {},
     "output_type": "execute_result"
    }
   ],
   "execution_count": 58
  },
  {
   "metadata": {
    "ExecuteTime": {
     "end_time": "2025-07-08T21:18:13.333081Z",
     "start_time": "2025-07-08T21:18:13.324243Z"
    }
   },
   "cell_type": "code",
   "source": [
    "#Create Features  and Target Variables\n",
    "X = format_focus.drop(columns = ['person_injury_lvl'])\n",
    "y = format_focus['person_injury_lvl']\n",
    "\n",
    "X_train,X_test,y_train,y_test = train_test_split(X, y,  test_size=0.25, random_state = 42)\n"
   ],
   "id": "a9dc2ee3df0fa26b",
   "outputs": [],
   "execution_count": 52
  },
  {
   "metadata": {
    "ExecuteTime": {
     "end_time": "2025-07-08T21:18:15.857900Z",
     "start_time": "2025-07-08T21:18:15.851242Z"
    }
   },
   "cell_type": "code",
   "source": [
    "#Ml Preprocessing\n",
    "scaler = MinMaxScaler()\n",
    "X_train = scaler.fit_transform(X_train)\n",
    "X_test = scaler.transform(X_test)\n",
    "\n",
    " \n"
   ],
   "id": "9aa7d5d90e9b0607",
   "outputs": [],
   "execution_count": 53
  },
  {
   "metadata": {
    "ExecuteTime": {
     "end_time": "2025-07-08T21:19:37.086472Z",
     "start_time": "2025-07-08T21:19:36.655857Z"
    }
   },
   "cell_type": "code",
   "source": [
    "smote = SMOTE(random_state=42, k_neighbors = 1)\n",
    "X_train, y_train = smote.fit_resample(X_train, y_train)"
   ],
   "id": "afccd2b4763ec547",
   "outputs": [],
   "execution_count": 55
  },
  {
   "metadata": {
    "ExecuteTime": {
     "end_time": "2025-07-08T21:19:39.199176Z",
     "start_time": "2025-07-08T21:19:38.730788Z"
    }
   },
   "cell_type": "code",
   "source": [
    "#Hyperparameter Tuning\n",
    "\n",
    "param_grid = {'n_neighbors': [1, 3, 5, 7, 9, 11]}\n",
    "grid = GridSearchCV(KNeighborsClassifier(), param_grid, cv=2)\n",
    "grid.fit(X_train, y_train)\n",
    "\n",
    "best_knn = grid.best_estimator_\n",
    "\n"
   ],
   "id": "97fcf2cdf1b93685",
   "outputs": [],
   "execution_count": 56
  },
  {
   "metadata": {
    "ExecuteTime": {
     "end_time": "2025-07-08T21:19:40.439151Z",
     "start_time": "2025-07-08T21:19:40.415882Z"
    }
   },
   "cell_type": "code",
   "source": [
    "#Prediction and evaluate\n",
    "y_pred = best_knn.predict(X_test)\n",
    "print(classification_report(y_test,y_pred,zero_division=0))\n",
    "print(confusion_matrix(y_test, y_pred))"
   ],
   "id": "f9fc27684245409e",
   "outputs": [
    {
     "name": "stdout",
     "output_type": "stream",
     "text": [
      "              precision    recall  f1-score   support\n",
      "\n",
      "           0       0.00      0.00      0.00         5\n",
      "           1       0.63      0.43      0.51       111\n",
      "           2       0.36      0.37      0.37        51\n",
      "           3       0.09      0.23      0.13        13\n",
      "           4       0.00      0.00      0.00        12\n",
      "           5       0.00      0.00      0.00         1\n",
      "\n",
      "    accuracy                           0.36       193\n",
      "   macro avg       0.18      0.17      0.17       193\n",
      "weighted avg       0.46      0.36      0.40       193\n",
      "\n",
      "[[ 0  1  3  1  0  0]\n",
      " [ 9 48 25 18 10  1]\n",
      " [ 3 17 19  8  4  0]\n",
      " [ 1  5  1  3  3  0]\n",
      " [ 0  4  5  3  0  0]\n",
      " [ 0  1  0  0  0  0]]\n"
     ]
    }
   ],
   "execution_count": 57
  }
 ],
 "metadata": {
  "kernelspec": {
   "display_name": "Python 3",
   "language": "python",
   "name": "python3"
  },
  "language_info": {
   "codemirror_mode": {
    "name": "ipython",
    "version": 2
   },
   "file_extension": ".py",
   "mimetype": "text/x-python",
   "name": "python",
   "nbconvert_exporter": "python",
   "pygments_lexer": "ipython2",
   "version": "2.7.6"
  }
 },
 "nbformat": 4,
 "nbformat_minor": 5
}
